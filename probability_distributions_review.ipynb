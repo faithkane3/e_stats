{
 "cells": [
  {
   "cell_type": "code",
   "execution_count": 2,
   "metadata": {},
   "outputs": [],
   "source": [
    "import pandas as pd\n",
    "import numpy as np\n",
    "\n",
    "import matplotlib.pyplot as plt\n",
    "import seaborn as sns\n",
    "\n",
    "from math import sqrt\n",
    "from scipy import stats\n",
    "\n",
    "np.random.seed(123)\n",
    "\n",
    "from pydataset import data\n",
    "\n",
    "from env import host, user, password\n",
    "\n",
    "from wrangle_telco import wrangle_telco\n",
    "from explore import correlation_exploration"
   ]
  },
  {
   "cell_type": "markdown",
   "metadata": {},
   "source": [
    "## Statistical Distributions"
   ]
  },
  {
   "cell_type": "markdown",
   "metadata": {},
   "source": [
    "___"
   ]
  },
  {
   "cell_type": "markdown",
   "metadata": {},
   "source": [
    "### Uniform Distribution \n",
    "\n",
    "allows us to model events where the outcome is discrete, and each outcome has an equally likely chance of occurring.\n",
    "\n",
    "**<font color=red>What You Need</font>**\n",
    "\n",
    "1. Finite number of outcomes equally likely to happen.\n",
    "\n",
    "**<font color=orange>So what?</font>**\n",
    "\n",
    "Allows you to construct a random variable that has an equal opportunity of being any one of the integers in the range you establish using the `low` (inclusive) and `high` (exclusive) below. `size` is an optional parameter, as well.\n",
    "\n",
    "**Quick Summary**\n",
    "\n",
    "- In statistics, a uniform distribution is a probability distribution where all outcomes are equally likely.\n",
    "\n",
    "\n",
    "- Discrete uniform distributions have a finite number of outcomes. A continuous uniform distribution is a statistical distribution with an infinite number of equally likely measurable values.\n",
    "\n",
    "\n",
    "- The concepts of discrete uniform distribution and continuous uniform distribution, as well as the random variables they describe, are the foundations of statistical analysis and probability theory.\n",
    "\n",
    "**<font color=green>Now What?</font>**\n",
    "\n",
    "**Create the distribution:**\n",
    "\n",
    "`uniform_distribution = stats.randint(low, high, size)`\n",
    "\n",
    "<code style=\"background:yellow;color:black\">Examples:</code>\n",
    "\n",
    "- The probability of landing on each side of a die.\n",
    "- The probability of flipping heads or tails on a coin\n",
    "\n",
    "**Return a single random variable from this distribution:**\n",
    "\n",
    "`uniform_distribution.rvs()`\n",
    "\n",
    "**Return a specific number, n,  of random variables from this distribution:**\n",
    "\n",
    "`uniform_distribution.rvs(n)`\n",
    "\n",
    "**Return a matrix, (nrows, ncols),  of random variables from this distribution:**\n",
    "\n",
    "`uniform_distribution.rvs(n, n, size = (nrows, ncols))`"
   ]
  },
  {
   "cell_type": "markdown",
   "metadata": {},
   "source": [
    "___"
   ]
  },
  {
   "cell_type": "markdown",
   "metadata": {},
   "source": [
    "### Binomial Distribution \n",
    "\n",
    "allows us to model the number of successes after a fixed number of trials, given a certain probability of success. This distribution assumes that each trial is independent. <font color=purple>(Discrete, fixed # of events.)</font>\n",
    "\n",
    "**<font color=red>What You Need</font>**\n",
    "\n",
    "1. There are only two possible mutually exclusive outcomes.\n",
    "2. There is a fixed number of trials where trials must be independent of each other:\n",
    "\n",
    "`n = trials`\n",
    "\n",
    "3. There is a fixed probability of getting a pre-defined success:\n",
    "\n",
    "`p = p(success)`\n",
    "\n",
    "**<font color=orange>So what?</font>**\n",
    "\n",
    "returns the likelihood of successes\n",
    "\n",
    "**<font color=green>Now What?</font>**\n",
    "\n",
    "`binomial_distribution = stats.binom(n, p)`\n",
    "\n",
    "<code style=\"background:yellow;color:black\">Example:</code>\n",
    "\n",
    "The probability of flipping heads (a pre-defined success) exactly 6 times in 35 flips (trials).\n",
    "\n",
    "`binomial_distribution = stats.binom(35, .167)`\n",
    "\n",
    "`binomial_distribution.pmf(6)`"
   ]
  },
  {
   "cell_type": "markdown",
   "metadata": {},
   "source": [
    "___"
   ]
  },
  {
   "cell_type": "markdown",
   "metadata": {},
   "source": [
    "### Normal Distribution \n",
    "\n",
    "allows us to model a continuous random variable where the further away from the mean you are, the less likely the outcome. Also known as a Gaussian Distribution.\n",
    "\n",
    "**<font color=red>What You Need</font>**\n",
    "\n",
    "1. mean\n",
    "2. standard deviation\n",
    "\n",
    "**Quick Summary**\n",
    "\n",
    "- They are symmetric.\n",
    "\n",
    "- The mean, median, and mode are equal.\n",
    "\n",
    "- They follow the Empirical rule (68 - 95 - 99.7).\n",
    "\n",
    "**<font color=orange>So what?</font>**\n",
    "\n",
    "The Standard Normal Distribution is a normal distribution with a mean of 0 and a standard deviation of 1.\n",
    "\n",
    "**<font color=green>Now What?</font>**\n",
    "\n",
    "`normal_distribution = stats.norm(mean, standard deviation)`\n",
    "\n",
    "<code style=\"background:yellow;color:black\">Example:</code>\n",
    "\n",
    "The Standard Normal Distribution is a normal distribution with a mean of 0 and standard deviation of 1."
   ]
  },
  {
   "cell_type": "markdown",
   "metadata": {},
   "source": [
    "___"
   ]
  },
  {
   "cell_type": "markdown",
   "metadata": {},
   "source": [
    "### Poisson Distribution \n",
    "\n",
    "allows us to model a situation where a certain number of events happen over a specified time interval. It is used to predict the amount of variation from a known average rate of occurrence, within a given time frame. <font color=purple>(Continuous, no fixed number of events. Can go off into infinity.)</font>\n",
    "\n",
    "**<font color=red>What You Need</font>**\n",
    "\n",
    "1. A known average rate of occurrence.\n",
    "\n",
    "**Quick Summary**\n",
    "\n",
    "- Events must be independent of each other.\n",
    "\n",
    "- There must be some time interval that separates occurrences of events. (not simultaneous)\n",
    "\n",
    "\n",
    "**<font color=orange>So what?</font>**\n",
    "\n",
    "Returns the likelihood of a certain number of events occurring over the time interval/period.\n",
    "\n",
    "**<font color=green>Now What?</font>**\n",
    "\n",
    "`poisson_distribution = stats.poisson(average rate)`\n",
    "\n",
    "<code style=\"background:yellow;color:black\">Examples:</code>\n",
    "\n",
    "An event happens, on average, x times per hour.\n",
    "What are the staffing requirements for a company during a peak time? (restaurant, phone bank, etc.) (The number of phone calls received by a call center per hour.)"
   ]
  },
  {
   "cell_type": "markdown",
   "metadata": {},
   "source": [
    "___"
   ]
  },
  {
   "attachments": {},
   "cell_type": "markdown",
   "metadata": {},
   "source": [
    "### PDF/PMF\n",
    "\n",
    "**PDF** (Probability Density Function) / **PMF** (Probability Mass Function) - The probability that your random variable takes on an **EXACT** value.\n",
    "\n",
    "<img src=https://i.pinimg.com/originals/26/d4/df/26d4df44f322bc49272f29864a6e12c6.png width=\"300\">\n",
    "\n",
    "`distribution.pdf(probability/continuous)`\n",
    "\n",
    "`distribution.pmf(value/discrete)`"
   ]
  },
  {
   "cell_type": "markdown",
   "metadata": {},
   "source": [
    "___"
   ]
  },
  {
   "attachments": {},
   "cell_type": "markdown",
   "metadata": {},
   "source": [
    "### CDF/PPF\n",
    "\n",
    "**CDF** (Cumulative Density Function) / **PPF** (Percent Point Function) - The probability that your random variable takes on a value **less than or equal to** a given point.\n",
    "\n",
    "<img src=https://i.pinimg.com/originals/2f/8a/0b/2f8a0b24a09491199d00a669f0609cd6.png width=\"300\">\n",
    "\n",
    "`distribution.cdf(value/discrete)`\n",
    "\n",
    "`distribution.ppf(probability/continuous)`"
   ]
  },
  {
   "cell_type": "markdown",
   "metadata": {},
   "source": [
    "___"
   ]
  },
  {
   "attachments": {},
   "cell_type": "markdown",
   "metadata": {},
   "source": [
    "### SF/ISF\n",
    "\n",
    "**SF** (Survival Function) / **ISF** (Inverse Survival Function) - The probability that your random variable takes on a value **greater than** a given point.\n",
    "\n",
    "<img src=https://i.pinimg.com/564x/2a/a6/b6/2aa6b68122b2f00c04066c486001271c.jpg width=\"300\">\n",
    "\n",
    "`distribution.sf(value/discrete)`\n",
    "\n",
    "`distribution.isf(probability/continuous)`"
   ]
  },
  {
   "cell_type": "markdown",
   "metadata": {},
   "source": [
    "___"
   ]
  },
  {
   "cell_type": "markdown",
   "metadata": {},
   "source": [
    "## The Central Limit Theorem\n",
    "\n",
    "**<font color=red>What's so important about The Central Limit Theorem?</font>**\n",
    "\n",
    "- If we repeatedly take random samples of the same size from a the same population, and compute the sample mean for each of the samples, the sampling distribution of the sample means will be a normal distribution no matter what the initial distribution of the population was.\n",
    "\n",
    "\n",
    "- Even if our original population has a skewed distribution, our sampling distribution will be normal if we have a large enough sample!\n",
    "\n",
    "\n",
    "**<font color=orange>So what?</font>**\n",
    "\n",
    "- In hypothesis testing, the assumption is that our data is from a normal distribution. In real life, our data is usually **NOT** normally distributed! (Think of the salaries in the Employees database or the home values in the Zillow database.)\n",
    "\n",
    "\n",
    "**<font color=green>Now What?</font>**\n",
    "\n",
    "- The Central Limit Theorem and an appropriate sample size allow us to get around the problems of skewed, real-world data distributions, assume our sample data is normally distributed, and run our hypotheses tests."
   ]
  },
  {
   "cell_type": "code",
   "execution_count": 3,
   "metadata": {},
   "outputs": [],
   "source": [
    "# n_dice_per_experiment = ncols\n",
    "ncols = 10\n",
    "\n",
    "# n_experiments = nrows\n",
    "nrows = 100"
   ]
  },
  {
   "cell_type": "code",
   "execution_count": 4,
   "metadata": {},
   "outputs": [
    {
     "data": {
      "text/plain": [
       "array([[6, 3, 5, 3, 2, 4, 3, 4, 2, 2],\n",
       "       [1, 2, 2, 1, 1, 2, 4, 6, 5, 1],\n",
       "       [1, 5, 2, 4, 3, 5, 3, 5, 1, 6],\n",
       "       [1, 2, 4, 5, 5, 5, 2, 6, 4, 3]])"
      ]
     },
     "execution_count": 4,
     "metadata": {},
     "output_type": "execute_result"
    }
   ],
   "source": [
    "# Create 2-d array of random numbers between 1 and 6 to represent ten dice rolls for each column\n",
    "\n",
    "dataset = np.random.randint(1, 7, (nrows, ncols))\n",
    "\n",
    "dataset[:4]"
   ]
  },
  {
   "cell_type": "code",
   "execution_count": 5,
   "metadata": {},
   "outputs": [
    {
     "data": {
      "text/plain": [
       "array([3.4, 2.5, 3.5, 3.7, 3.2, 4.7, 3.4, 3.2, 3.4, 3. , 3.7, 3.5, 4. ,\n",
       "       4.5, 2.9, 2.8, 2.9, 3.8, 3.2, 3.6, 3.4, 4. , 3.5, 3.3, 3.6, 3. ,\n",
       "       4.3, 3. , 3.3, 3.2, 4.2, 3.9, 3.2, 3.8, 3.6, 3.4, 2.7, 3.4, 3.2,\n",
       "       3.1, 3.2, 3. , 4.1, 3.3, 3. , 4.1, 3.4, 3.3, 2.9, 3.8, 3.4, 3.6,\n",
       "       3.9, 3.2, 4.7, 3.8, 3.5, 2.8, 3.8, 4.7, 4.1, 3.5, 2.8, 3.7, 3.4,\n",
       "       3.7, 3.6, 4.1, 3.6, 3.5, 2.9, 4. , 3.2, 3.4, 4.4, 2.9, 3.2, 3.9,\n",
       "       1.9, 3. , 3. , 3.5, 3.3, 4.4, 3.4, 4.2, 4.1, 3.2, 3.5, 3.5, 3.8,\n",
       "       3.1, 3.6, 2.9, 2.9, 4. , 3.3, 3.1, 3.4, 3.6])"
      ]
     },
     "execution_count": 5,
     "metadata": {},
     "output_type": "execute_result"
    }
   ],
   "source": [
    "# Calculate the average for each set of 10 dice rolls\n",
    "\n",
    "calculated_averages = dataset.mean(axis=1)\n",
    "calculated_averages"
   ]
  },
  {
   "cell_type": "code",
   "execution_count": 8,
   "metadata": {},
   "outputs": [
    {
     "data": {
      "image/png": "[encoded data removed]",
      "text/plain": [
       "<Figure size 432x288 with 1 Axes>"
      ]
     },
     "metadata": {
      "needs_background": "light"
     },
     "output_type": "display_data"
    }
   ],
   "source": [
    "# Visualize the distribution of 100 observations of 10 dice rolls\n",
    "\n",
    "plt.hist(calculated_averages)\n",
    "plt.xlabel(f'Average of {ncols} Dice Rolls')\n",
    "plt.ylabel('# of Occurances')\n",
    "plt.title(f'Outcome of Averaging {ncols} Dice Rolls {nrows} Times')\n",
    "plt.show()"
   ]
  }
 ],
 "metadata": {
  "kernelspec": {
   "display_name": "Python 3",
   "language": "python",
   "name": "python3"
  },
  "language_info": {
   "codemirror_mode": {
    "name": "ipython",
    "version": 3
   },
   "file_extension": ".py",
   "mimetype": "text/x-python",
   "name": "python",
   "nbconvert_exporter": "python",
   "pygments_lexer": "ipython3",
   "version": "3.7.4"
  },
  "toc": {
   "base_numbering": 1,
   "nav_menu": {},
   "number_sections": false,
   "sideBar": true,
   "skip_h1_title": true,
   "title_cell": "Table of Contents",
   "title_sidebar": "Contents",
   "toc_cell": false,
   "toc_position": {},
   "toc_section_display": true,
   "toc_window_display": true
  }
 },
 "nbformat": 4,
 "nbformat_minor": 4
}
