{
 "cells": [
  {
   "cell_type": "code",
   "execution_count": 2,
   "metadata": {},
   "outputs": [],
   "source": [
    "import pandas as pd\n",
    "import numpy as np\n",
    "\n",
    "import matplotlib.pyplot as plt\n",
    "import seaborn as sns\n",
    "\n",
    "from math import sqrt\n",
    "from scipy import stats\n",
    "\n",
    "np.random.seed(123)\n",
    "\n",
    "from pydataset import data\n",
    "\n",
    "from env import host, user, password\n",
    "\n",
    "from wrangle_telco import wrangle_telco\n",
    "from explore import correlation_exploration"
   ]
  },
  {
   "cell_type": "markdown",
   "metadata": {},
   "source": [
    "## Hypothesis Testing"
   ]
  },
  {
   "cell_type": "markdown",
   "metadata": {},
   "source": [
    "### <font color=red>What is Hypothesis Testing?</font>\n",
    "\n",
    "<img width=\"150\" align='left' src=https://i.pinimg.com/564x/3e/23/c9/3e23c9920ea9f1f5c4b6b40c0595b2c1.jpg>"
   ]
  },
  {
   "cell_type": "markdown",
   "metadata": {},
   "source": [
    "- Hypothesis tests are used to draw conclusions, answer questions, or interpret beliefs we have about a population using sample data.\n",
    "\n",
    "\n",
    "- A hypothesis test evaluates two mutually exclusive statements about a population and informs us which statement is best supported by our sample data.\n",
    "\n",
    "$H_0$: There is no difference between smokers' tips and the overall population's tip average.\n",
    "\n",
    "$H_a$: There is a difference between smokers' tips and the overall population's tip average.\n",
    "\n",
    "- After running and interpreting the values returned by the appropriate statistical test for my data, I will either fail to reject or reject the Null Hypothesis.\n",
    "\n",
    "[Here](https://online.stat.psu.edu/statprogram/reviews/statistical-concepts/hypothesis-testing/p-value-approach) is a simple, yet detailed explanation of this process if you need a little more."
   ]
  },
  {
   "cell_type": "markdown",
   "metadata": {},
   "source": [
    "### <font color=orange>So What?</font>\n",
    "\n",
    ">\"There are two possible outcomes; if the result confirms the hypothesis, then you've made a measurement. If the result is contrary to the hypothesis, then you've made a discovery.\" - Enrico Fermi"
   ]
  },
  {
   "attachments": {},
   "cell_type": "markdown",
   "metadata": {},
   "source": [
    "### <font color=green>Now What?</font>\n",
    "\n",
    "<img width=\"400\" align='left' src=https://i.pinimg.com/564x/9a/5f/c6/9a5fc66f5985a5ca79013665b3f54a98.jpg >"
   ]
  },
  {
   "cell_type": "markdown",
   "metadata": {},
   "source": [
    "___"
   ]
  },
  {
   "attachments": {},
   "cell_type": "markdown",
   "metadata": {},
   "source": [
    "### Important Terms\n",
    "\n",
    "- **a confidence level** is the probability that if a poll/test/survey were repeated over and over again, the results obtained would be the same. It conveys how confident we are in our results. Raising your confidence level lowers your chances of Type I Errors, or False Positives. (Common examples might be 90%, 95%, or 99%)\n",
    "\n",
    "\n",
    "- **alpha** --> $a$ = 1 - confidence level. If the resulting p-value from the hypothesis test is less than the $a$, which you set before you begin the test, then the test findings are significant. If it is close, it is at your discretion. The results still may be significant even though slightly above your chosen cutoff. *Also, alpha is the maximum probability that you have a Type I Error.* \n",
    "\n",
    ">For a 95% confidence level, the value of alpha is .05 which means there is a 5% chance that you will make a Type I Error (False Positive) or reject a True Null hypothesis.\n",
    "\n",
    "\n",
    "- **t-statistic** is simply the calculated difference represented in units of standard error. The greater the magnitude of t, the greater the evidence against the null hypothesis. Why does it matter? **Short Answer:** It allows us to calculate our p-value!\n",
    "\n",
    "\n",
    "- **p-values** are values we obtain from hypothesis testing. They represent the probability that our obtained result is due to chance given that our stated hypothesis is true.\n",
    "\n",
    "\n",
    "- Looking for more information? I found this article useful.\n",
    "\n",
    "\n",
    "https://towardsdatascience.com/everything-you-need-to-know-about-hypothesis-testing-part-i-4de9abebbc8a"
   ]
  },
  {
   "cell_type": "markdown",
   "metadata": {},
   "source": [
    "___"
   ]
  },
  {
   "cell_type": "markdown",
   "metadata": {},
   "source": [
    "### Hypothesis Testing Errors\n",
    "\n",
    "<img src=https://i.pinimg.com/564x/cf/64/fa/cf64fa7d5feb4603e5df163b06a7ee93.jpg width=\"400\" align='left'>"
   ]
  },
  {
   "cell_type": "markdown",
   "metadata": {},
   "source": [
    "#### <font color=red>What is a Type I Error?</font>\n",
    "\n",
    "- A Type I Error is a False Positive, which I can think of as sounding a false alarm.\n",
    "\n",
    "\n",
    "- I predict there is a difference or a relationship when in reality there is no difference or no relationship.\n",
    "\n",
    "\n",
    "- I reject the Null hypothesis when the Null hypothesis is actually True.\n",
    "\n",
    "**<font color=orange>So What?</font>**\n",
    "\n",
    "- If I am trying to determine whether a customer will churn, and my **model predicts that they will churn (positive for churn)**, but **they do not end up churning (we made a False prediction)**, this is a **False Positive**. I may have wasted time and money trying to woo a customer who was not going to leave anyway."
   ]
  },
  {
   "attachments": {},
   "cell_type": "markdown",
   "metadata": {},
   "source": [
    "#### <font color=red>What is a Type II Error?</font>\n",
    "\n",
    "- A Type II Error is a False Negative, which I can think of as a miss; I missed identifying a real difference or relationship that exists in reality.\n",
    "\n",
    "\n",
    "- I predict that there is no difference or relationship when in reality there is a difference or relationship.\n",
    "\n",
    "\n",
    "- I fail to reject the Null hypothesis when the Null hypothesis is actually false.\n",
    "\n",
    "**<font color=orange>So What?</font>**\n",
    "\n",
    "- If I am trying to determine whether a customer will churn, and my **model predicts that they will not churn (negative for churn)**, but **they end up churning (we made a False Prediction)**, this is a **False Negative**. I may have lost the opportunity to woo a customer that was going to leave, before they left.\n",
    "\n",
    "**<font color=green>Now What?</font>**\n",
    "\n",
    "- In practice, if I create a classification model to predict customer churn, I can decide how to balance Type I and Type II Errors to have a model that suits my needs. In the instance of churn, which type of error would be more costly to the Telco company: a Type I Error or a Type II Error? Which would be more costly if I was trying to determine if a shadow in an x-ray were cancer?"
   ]
  },
  {
   "cell_type": "markdown",
   "metadata": {},
   "source": [
    "___"
   ]
  },
  {
   "cell_type": "markdown",
   "metadata": {},
   "source": [
    "## T-Test - Continuous v Categorical Variables\n",
    "\n",
    "#### <font color=red>What is a T-Test?</font>\n",
    "\n",
    "- A type of inferential statistic used to determine if there is a significant difference between the means of two groups which may be related in certain features.\n",
    "\n",
    "\n",
    "- It compares a categorical and a continuous variable by comparing the mean of the continuous variable by subgroups or the mean of a subgroup to the mean of the population."
   ]
  },
  {
   "cell_type": "markdown",
   "metadata": {},
   "source": [
    "#### <font color=orange>So What?</font>\n",
    "\n",
    "- **One Sample T-test** is when I compare the mean for a subgroup to the population mean.\n",
    "   \n",
    "   >Are sales for group A higher when we run a promotion? \n",
    "   \n",
    "- **Two Sample T-test** is when we compare the mean of one subgroup to the mean of another subgroup."
   ]
  },
  {
   "cell_type": "markdown",
   "metadata": {},
   "source": [
    "#### <font color=green>Now What?</font>\n",
    "```python\n",
    "# Set confidence level.\n",
    "confidence_level = .95\n",
    "\n",
    "# Set alpha.\n",
    "alpha = 1 - confidence_level\n",
    "```\n",
    "\n",
    "- If the p-value is higher than your alpha, I fail to reject the Null Hypothesis. \n",
    "\n",
    "\n",
    "- If the p-value is lower than the alpha, I reject the Null Hypothesis."
   ]
  },
  {
   "cell_type": "markdown",
   "metadata": {},
   "source": [
    "### Types of T-Tests\n",
    "**A one-sample t-test** compares the mean of a subgroup with the population mean.\n",
    "  \n",
    "```python\n",
    "subpop = array, list, Series\n",
    "  \n",
    "popmean = single value\n",
    "\n",
    "t, p = scipy.stats.ttest_1samp(subpop, popmean)\n",
    "```\n",
    "\n",
    "**A two-sample t-test** compares the means of two subgroups. \n",
    "\n",
    "```python\n",
    "subpop_a = array, list, or Series\n",
    "  \n",
    "subpop_b = array, list, or Series\n",
    "\n",
    "t, p = scipy.stats.ttest_ind(subpop_a, subpop_b)\n",
    "```\n",
    "\n",
    "___\n",
    "\n",
    "**A one-tailed test** looks for a specific difference: appropriate if I only want to determine if there is a difference between groups in a specific direction, positive only or negative only.\n",
    "\n",
    "```python\n",
    "# Check one-tailed test for significance in positive direction. (greater than)\n",
    "(p/2) < alpha\n",
    "\n",
    "# Check one-tailed test for significance in negative direction. (less than)\n",
    "(p/2) < alpha\n",
    "```"
   ]
  },
  {
   "cell_type": "markdown",
   "metadata": {},
   "source": [
    "<img src=https://i.pinimg.com/564x/19/b3/5b/19b35b31d4c2eda8e411280ef99f9b25.jpg width=\"200\" align='left'>"
   ]
  },
  {
   "cell_type": "markdown",
   "metadata": {},
   "source": [
    "[source](https://stats.idre.ucla.edu/other/mult-pkg/faq/general/faq-what-are-the-differences-between-one-tailed-and-two-tailed-tests/#:~:text=For%20example%2C%20we%20may%20wish,mean%20significantly%20less%20than%20x.)"
   ]
  },
  {
   "cell_type": "markdown",
   "metadata": {},
   "source": [
    "**A two-tailed test** looks for any difference: appropriate if I want to test for significance without concern for a positive or negative direction.\n",
    "\n",
    "```python\n",
    "# Check a two-tailed test for significance, non-directional.\n",
    "p < alpha\n",
    "```"
   ]
  },
  {
   "cell_type": "markdown",
   "metadata": {},
   "source": [
    "<img src=https://i.pinimg.com/564x/74/ea/47/74ea47b60435e2f10fb5d3e946fbaf7f.jpg width=\"200\" align='left'>"
   ]
  },
  {
   "cell_type": "markdown",
   "metadata": {},
   "source": [
    "[source](https://stats.idre.ucla.edu/other/mult-pkg/faq/general/faq-what-are-the-differences-between-one-tailed-and-two-tailed-tests/#:~:text=For%20example%2C%20we%20may%20wish,mean%20significantly%20less%20than%20x.)"
   ]
  },
  {
   "cell_type": "markdown",
   "metadata": {},
   "source": [
    "___"
   ]
  },
  {
   "cell_type": "markdown",
   "metadata": {},
   "source": [
    "#### One-Sample Example"
   ]
  },
  {
   "cell_type": "code",
   "execution_count": 3,
   "metadata": {},
   "outputs": [],
   "source": [
    "# Create DataFrame from pydataset 'tips' dataset.\n",
    "\n",
    "df = data('tips')"
   ]
  },
  {
   "cell_type": "code",
   "execution_count": 4,
   "metadata": {},
   "outputs": [
    {
     "data": {
      "text/html": [
       "<div>\n",
       "<style scoped>\n",
       "    .dataframe tbody tr th:only-of-type {\n",
       "        vertical-align: middle;\n",
       "    }\n",
       "\n",
       "    .dataframe tbody tr th {\n",
       "        vertical-align: top;\n",
       "    }\n",
       "\n",
       "    .dataframe thead th {\n",
       "        text-align: right;\n",
       "    }\n",
       "</style>\n",
       "<table border=\"1\" class=\"dataframe\">\n",
       "  <thead>\n",
       "    <tr style=\"text-align: right;\">\n",
       "      <th></th>\n",
       "      <th>total_bill</th>\n",
       "      <th>tip</th>\n",
       "      <th>sex</th>\n",
       "      <th>smoker</th>\n",
       "      <th>day</th>\n",
       "      <th>time</th>\n",
       "      <th>size</th>\n",
       "    </tr>\n",
       "  </thead>\n",
       "  <tbody>\n",
       "    <tr>\n",
       "      <th>1</th>\n",
       "      <td>16.99</td>\n",
       "      <td>1.01</td>\n",
       "      <td>Female</td>\n",
       "      <td>No</td>\n",
       "      <td>Sun</td>\n",
       "      <td>Dinner</td>\n",
       "      <td>2</td>\n",
       "    </tr>\n",
       "    <tr>\n",
       "      <th>2</th>\n",
       "      <td>10.34</td>\n",
       "      <td>1.66</td>\n",
       "      <td>Male</td>\n",
       "      <td>No</td>\n",
       "      <td>Sun</td>\n",
       "      <td>Dinner</td>\n",
       "      <td>3</td>\n",
       "    </tr>\n",
       "    <tr>\n",
       "      <th>3</th>\n",
       "      <td>21.01</td>\n",
       "      <td>3.50</td>\n",
       "      <td>Male</td>\n",
       "      <td>No</td>\n",
       "      <td>Sun</td>\n",
       "      <td>Dinner</td>\n",
       "      <td>3</td>\n",
       "    </tr>\n",
       "    <tr>\n",
       "      <th>4</th>\n",
       "      <td>23.68</td>\n",
       "      <td>3.31</td>\n",
       "      <td>Male</td>\n",
       "      <td>No</td>\n",
       "      <td>Sun</td>\n",
       "      <td>Dinner</td>\n",
       "      <td>2</td>\n",
       "    </tr>\n",
       "    <tr>\n",
       "      <th>5</th>\n",
       "      <td>24.59</td>\n",
       "      <td>3.61</td>\n",
       "      <td>Female</td>\n",
       "      <td>No</td>\n",
       "      <td>Sun</td>\n",
       "      <td>Dinner</td>\n",
       "      <td>4</td>\n",
       "    </tr>\n",
       "  </tbody>\n",
       "</table>\n",
       "</div>"
      ],
      "text/plain": [
       "   total_bill   tip     sex smoker  day    time  size\n",
       "1       16.99  1.01  Female     No  Sun  Dinner     2\n",
       "2       10.34  1.66    Male     No  Sun  Dinner     3\n",
       "3       21.01  3.50    Male     No  Sun  Dinner     3\n",
       "4       23.68  3.31    Male     No  Sun  Dinner     2\n",
       "5       24.59  3.61  Female     No  Sun  Dinner     4"
      ]
     },
     "execution_count": 4,
     "metadata": {},
     "output_type": "execute_result"
    }
   ],
   "source": [
    "df.head()"
   ]
  },
  {
   "cell_type": "code",
   "execution_count": 6,
   "metadata": {},
   "outputs": [
    {
     "data": {
      "image/png": "[encoded data removed]",
      "text/plain": [
       "<Figure size 432x288 with 1 Axes>"
      ]
     },
     "metadata": {
      "needs_background": "light"
     },
     "output_type": "display_data"
    }
   ],
   "source": [
    "# T-tests assume that the continous variable is normally distributed; quick check of this.\n",
    "\n",
    "sns.distplot(df.tip)\n",
    "plt.title('Distribution of Tips - Slight Right Skew')\n",
    "plt.show()"
   ]
  },
  {
   "cell_type": "markdown",
   "metadata": {},
   "source": [
    "##### Mean and Median \n",
    "\n",
    "- The distribution is slightly right-skewed, so I'll do a quick comparison of the mean and median of `df.tip`.\n",
    "\n",
    "\n",
    "- I can see below that the mean is slightly higher than the median. It's close enough to proceed, though."
   ]
  },
  {
   "cell_type": "code",
   "execution_count": 21,
   "metadata": {},
   "outputs": [
    {
     "name": "stdout",
     "output_type": "stream",
     "text": [
      "The mean is: 2.9982786885245902, and the median is 2.9\n",
      "This is close enough to normal to continue.\n"
     ]
    }
   ],
   "source": [
    "print(f'The mean is: {df.tip.mean()}, and the median is {df.tip.median()}')\n",
    "print('This is close enough to normal to continue.')"
   ]
  },
  {
   "cell_type": "markdown",
   "metadata": {},
   "source": [
    "##### Create Hypotheses\n",
    "\n",
    ">$H_0$: There is no difference between smokers' tips and the overall population's tip average.\n",
    "\n",
    ">$H_a$: There is a difference between smokers' tips and the overall population's tip average."
   ]
  },
  {
   "cell_type": "markdown",
   "metadata": {},
   "source": [
    "##### Set Alpha"
   ]
  },
  {
   "cell_type": "code",
   "execution_count": 22,
   "metadata": {},
   "outputs": [
    {
     "name": "stdout",
     "output_type": "stream",
     "text": [
      "alpha = 0.05\n"
     ]
    }
   ],
   "source": [
    "# Set Confidence Interval and Alpha; check alpha.\n",
    "\n",
    "confidence_interval = .95\n",
    "alpha = round(1 - confidence_interval, 2)\n",
    "print(f'alpha = {alpha}')"
   ]
  },
  {
   "cell_type": "markdown",
   "metadata": {},
   "source": [
    "##### Calculate  p-value & t-statistic\n",
    "\n",
    "- Based on the calculated p-value and t-statistic, I fail to reject my Null Hypothesis that there is no significant difference in the average tip of smokers and the overall population."
   ]
  },
  {
   "cell_type": "code",
   "execution_count": 23,
   "metadata": {},
   "outputs": [],
   "source": [
    "# Create smokers subset of our df.\n",
    "\n",
    "smokers = df[df.smoker == 'Yes']"
   ]
  },
  {
   "cell_type": "code",
   "execution_count": 24,
   "metadata": {},
   "outputs": [],
   "source": [
    "# Assign the mean of all tips to the variable pop_mean.\n",
    "\n",
    "pop_mean = df.tip.mean()"
   ]
  },
  {
   "cell_type": "code",
   "execution_count": 25,
   "metadata": {},
   "outputs": [
    {
     "name": "stdout",
     "output_type": "stream",
     "text": [
      "t = 0.072\n",
      "p = 0.943\n"
     ]
    }
   ],
   "source": [
    "# Pass in the tip column from smokers subset and mean of tip column from entire df.\n",
    "\n",
    "t, p = stats.ttest_1samp(smokers.tip, pop_mean)\n",
    "\n",
    "print(f't = {t:.3f}')\n",
    "print(f'p = {p:.3f}')"
   ]
  },
  {
   "cell_type": "code",
   "execution_count": 26,
   "metadata": {},
   "outputs": [
    {
     "name": "stdout",
     "output_type": "stream",
     "text": [
      "Our p-value is less than our alpha: False\n"
     ]
    }
   ],
   "source": [
    "print(f'Our p-value is less than our alpha: {p < alpha}')"
   ]
  },
  {
   "cell_type": "markdown",
   "metadata": {},
   "source": [
    "___"
   ]
  },
  {
   "cell_type": "markdown",
   "metadata": {},
   "source": [
    "##### Two Sample Example"
   ]
  },
  {
   "cell_type": "code",
   "execution_count": 27,
   "metadata": {},
   "outputs": [
    {
     "data": {
      "image/png": "[encoded data removed]",
      "text/plain": [
       "<Figure size 432x288 with 1 Axes>"
      ]
     },
     "metadata": {
      "needs_background": "light"
     },
     "output_type": "display_data"
    }
   ],
   "source": [
    "# T-tests assume that the continous variable is normally distributed; quick check of this.\n",
    "\n",
    "sns.distplot(df.tip)\n",
    "plt.title('Distribution of Tips - Slight Right Skew')\n",
    "plt.show()"
   ]
  },
  {
   "cell_type": "markdown",
   "metadata": {},
   "source": [
    "##### Mean and Median \n",
    "\n",
    "- The distribution is right-skewed, so we see below the mean is slightly higher than the median.\n",
    "\n",
    "\n",
    "- So, let's do a quick comparison of the mean and median of `df.tip`."
   ]
  },
  {
   "cell_type": "code",
   "execution_count": 28,
   "metadata": {},
   "outputs": [
    {
     "name": "stdout",
     "output_type": "stream",
     "text": [
      "The mean is: 2.9982786885245902, and the median is 2.9\n",
      "This is close enough to normal to continue.\n"
     ]
    }
   ],
   "source": [
    "print(f'The mean is: {df.tip.mean()}, and the median is {df.tip.median()}')\n",
    "print('This is close enough to normal to continue.')"
   ]
  },
  {
   "cell_type": "markdown",
   "metadata": {},
   "source": [
    "##### Create Hypotheses\n",
    "\n",
    ">$H_0$: There is no difference between women's and men's tips.\n",
    "\n",
    ">$H_a$: There is a difference between women's and men's tips."
   ]
  },
  {
   "cell_type": "markdown",
   "metadata": {},
   "source": [
    "##### Set Alpha"
   ]
  },
  {
   "cell_type": "code",
   "execution_count": 29,
   "metadata": {},
   "outputs": [
    {
     "name": "stdout",
     "output_type": "stream",
     "text": [
      "alpha = 0.05\n"
     ]
    }
   ],
   "source": [
    "# Set Confidence Interval and Alpha; check alpha.\n",
    "\n",
    "confidence_interval = .95\n",
    "alpha = round(1 - confidence_interval, 2)\n",
    "print(f'alpha = {alpha}')"
   ]
  },
  {
   "cell_type": "code",
   "execution_count": 30,
   "metadata": {},
   "outputs": [],
   "source": [
    "# Create subsets of males and females from our original df.\n",
    "\n",
    "males = df[df.sex == 'Male']\n",
    "females = df[df.sex == 'Female']"
   ]
  },
  {
   "cell_type": "markdown",
   "metadata": {},
   "source": [
    "##### Calculate  p-value & t-statistic\n",
    "\n",
    "- Based on the calculated p-value and t-statistic, I fail to reject my Null Hypothesis that there is no significant difference in the average tip of men and women."
   ]
  },
  {
   "cell_type": "code",
   "execution_count": 31,
   "metadata": {},
   "outputs": [],
   "source": [
    "t, p = stats.ttest_ind(males.tip, females.tip)"
   ]
  },
  {
   "cell_type": "code",
   "execution_count": 32,
   "metadata": {},
   "outputs": [
    {
     "name": "stdout",
     "output_type": "stream",
     "text": [
      "The t-statistic for the two sample t-test comparing male to female tips is 1.388.\n"
     ]
    }
   ],
   "source": [
    "print(f'The t-statistic for the two sample t-test comparing male to female tips is {round(t,3)}.')"
   ]
  },
  {
   "cell_type": "code",
   "execution_count": 33,
   "metadata": {},
   "outputs": [
    {
     "name": "stdout",
     "output_type": "stream",
     "text": [
      "Our p-value is 0.166.\n",
      "This means there is about a 16.65% chance that we observe the data we have.\n"
     ]
    }
   ],
   "source": [
    "print(f'Our p-value is {round(p, 3)}.')\n",
    "print(f'This means there is about a {round(p * 100, 2)}% chance that we observe the data we have.')"
   ]
  },
  {
   "cell_type": "code",
   "execution_count": 34,
   "metadata": {},
   "outputs": [
    {
     "name": "stdout",
     "output_type": "stream",
     "text": [
      "Our p-value is less than our alpha: False\n"
     ]
    }
   ],
   "source": [
    "print(f'Our p-value is less than our alpha: {p < alpha}')"
   ]
  },
  {
   "cell_type": "markdown",
   "metadata": {},
   "source": [
    "___"
   ]
  },
  {
   "cell_type": "markdown",
   "metadata": {},
   "source": [
    "## Correlation - Continuous v Continuous Variables"
   ]
  },
  {
   "cell_type": "markdown",
   "metadata": {},
   "source": [
    "### <font color=red>What is a correlation test?</font>\n",
    "\n",
    "- Correlation is a statistical measure that describes how two continuous variables are related and indicates that as one variable changes in value, the other variable tends to change in a specific direction. \n",
    "\n",
    ">**Positive Correlation:** both variables change in the same direction.\n",
    "\n",
    ">**Neutral or No Correlation:** No relationship in the change of the variables.\n",
    "\n",
    ">**Negative Correlation:** variables change in opposite directions."
   ]
  },
  {
   "cell_type": "markdown",
   "metadata": {},
   "source": [
    "<img src=https://i.pinimg.com/564x/77/c0/c2/77c0c282785031d9b0bcd9c029b91760.jpg width=\"500\" align='left'>"
   ]
  },
  {
   "cell_type": "markdown",
   "metadata": {},
   "source": [
    "[source](https://lytongblog.wordpress.com/2018/12/21/correlation-between-two-variables/)"
   ]
  },
  {
   "cell_type": "markdown",
   "metadata": {},
   "source": [
    "### <font color=orange>So What?</font>\n",
    "\n",
    "- The Pearson correlation coefficient, r, is a unitless, continuous numerical measure between -1 and 1, where 1 = perfect positive correlation and -1 = perfect negative correlation. It can be used to summarize the strength of the linear relationship between two data samples.\n",
    "\n",
    "\n",
    "- The bigger the value of a correlation coefficient, the less likely it is to have occurred merely by chance, and the more likely it is that it has occurred because it represents a genuine relationship between the two variables in question.\n",
    "\n",
    "\n",
    "- Some machine learning algorithms, such as Linear Regressions, may not perform as well when there is multicolinearity or independent variables that are correlated."
   ]
  },
  {
   "cell_type": "markdown",
   "metadata": {},
   "source": [
    "### <font color=green>Now What?</font>\n",
    "\n",
    "1. Calculate the Pearson correlation coefficient, r.    \n",
    "2. Calculate the coresponding t-values.\n",
    "3. Test whether the t-values are significant or not, p-value.\n",
    "\n",
    "\n",
    ">We can use `r, p = stats.pearsonr(x,y)` to find r and p-values."
   ]
  },
  {
   "cell_type": "markdown",
   "metadata": {},
   "source": [
    "**<font color=purple>Keep in mind that...</font>**\n",
    "\n",
    "\n",
    "- Correlation doesn't mean that one variable is causing the change in another variable! \n",
    "    \n",
    "    \n",
    "- Pearson's correlation tests measure the linear relationship between 2 variables and not other types of relationships. (There are other correlation tests, like Spearman's correlation, that test for non-linear relationships.)\n",
    "    \n",
    "    \n",
    "- Correlations can be misleading when confounding variables are ignored. There may be a third variable influencing the other two variables in your correlation test. (An increase in ice cream sales causes an increase in murder rate.)"
   ]
  },
  {
   "cell_type": "markdown",
   "metadata": {},
   "source": [
    "#### Pearson's r Examples"
   ]
  },
  {
   "cell_type": "markdown",
   "metadata": {},
   "source": [
    "##### My Correlation Function\n",
    "\n",
    "Here you can see the guts of my function correlation_exploration that I created and imported to make this processes faster. I got tired of writing the same code over and over.\n",
    "\n",
    "```python\n",
    "def correlation_exploration(df, x_string, y_string):\n",
    "    '''\n",
    "    This nifty function takes in a df, a string for x variable,\n",
    "    and a string for y variable and displays their correlation.\n",
    "    '''\n",
    "    r, p = stats.pearsonr(df[x_string], df[y_string])\n",
    "    df.plot.scatter(x_string, y_string)\n",
    "    plt.title(f\"{x_string}'s Relationship with {y_string}\")\n",
    "    print(f'The p-value is: {p}. There is {round(p,3)}% chance that we see these results by chance.')\n",
    "    print(f'r = {round(r, 2)}')\n",
    "    plt.show()\n",
    "```"
   ]
  },
  {
   "cell_type": "markdown",
   "metadata": {},
   "source": [
    "##### My Wrangle Function\n",
    "\n",
    "Here you can see the guts of my function to get my Telco data from the Codeup database and clean it up for use in some examples.\n",
    "\n",
    "```python\n",
    "def wrangle_telco():\n",
    "    \"\"\"\n",
    "    Queries the telco_churn database\n",
    "    Returns a clean df with six columns:\n",
    "    customer_id(object), monthly_charges(float), \n",
    "    tenure(int), total_charges(float),\n",
    "    phone_service(object), internet_service_type_id(int)\n",
    "    \"\"\"\n",
    "    df = get_data_from_sql()\n",
    "    df.tenure.replace(0, 1, inplace=True)\n",
    "    df.total_charges.replace(' ', df.monthly_charges, inplace=True)\n",
    "    df.total_charges = df.total_charges.astype(float)\n",
    "    return df\n",
    "```"
   ]
  },
  {
   "cell_type": "markdown",
   "metadata": {},
   "source": [
    "___"
   ]
  },
  {
   "cell_type": "code",
   "execution_count": 45,
   "metadata": {},
   "outputs": [],
   "source": [
    "telco = wrangle_telco()"
   ]
  },
  {
   "cell_type": "code",
   "execution_count": 46,
   "metadata": {},
   "outputs": [
    {
     "name": "stdout",
     "output_type": "stream",
     "text": [
      "<class 'pandas.core.frame.DataFrame'>\n",
      "RangeIndex: 7043 entries, 0 to 7042\n",
      "Data columns (total 6 columns):\n",
      " #   Column                    Non-Null Count  Dtype  \n",
      "---  ------                    --------------  -----  \n",
      " 0   customer_id               7043 non-null   object \n",
      " 1   monthly_charges           7043 non-null   float64\n",
      " 2   tenure                    7043 non-null   int64  \n",
      " 3   total_charges             7043 non-null   float64\n",
      " 4   phone_service             7043 non-null   object \n",
      " 5   internet_service_type_id  7043 non-null   int64  \n",
      "dtypes: float64(2), int64(2), object(2)\n",
      "memory usage: 330.3+ KB\n"
     ]
    }
   ],
   "source": [
    "telco.info()"
   ]
  },
  {
   "cell_type": "code",
   "execution_count": 47,
   "metadata": {},
   "outputs": [
    {
     "data": {
      "text/html": [
       "<div>\n",
       "<style scoped>\n",
       "    .dataframe tbody tr th:only-of-type {\n",
       "        vertical-align: middle;\n",
       "    }\n",
       "\n",
       "    .dataframe tbody tr th {\n",
       "        vertical-align: top;\n",
       "    }\n",
       "\n",
       "    .dataframe thead th {\n",
       "        text-align: right;\n",
       "    }\n",
       "</style>\n",
       "<table border=\"1\" class=\"dataframe\">\n",
       "  <thead>\n",
       "    <tr style=\"text-align: right;\">\n",
       "      <th></th>\n",
       "      <th>customer_id</th>\n",
       "      <th>monthly_charges</th>\n",
       "      <th>tenure</th>\n",
       "      <th>total_charges</th>\n",
       "      <th>phone_service</th>\n",
       "      <th>internet_service_type_id</th>\n",
       "    </tr>\n",
       "  </thead>\n",
       "  <tbody>\n",
       "    <tr>\n",
       "      <th>0</th>\n",
       "      <td>0002-ORFBO</td>\n",
       "      <td>65.6</td>\n",
       "      <td>9</td>\n",
       "      <td>593.30</td>\n",
       "      <td>Yes</td>\n",
       "      <td>1</td>\n",
       "    </tr>\n",
       "    <tr>\n",
       "      <th>1</th>\n",
       "      <td>0003-MKNFE</td>\n",
       "      <td>59.9</td>\n",
       "      <td>9</td>\n",
       "      <td>542.40</td>\n",
       "      <td>Yes</td>\n",
       "      <td>1</td>\n",
       "    </tr>\n",
       "    <tr>\n",
       "      <th>2</th>\n",
       "      <td>0004-TLHLJ</td>\n",
       "      <td>73.9</td>\n",
       "      <td>4</td>\n",
       "      <td>280.85</td>\n",
       "      <td>Yes</td>\n",
       "      <td>2</td>\n",
       "    </tr>\n",
       "    <tr>\n",
       "      <th>3</th>\n",
       "      <td>0011-IGKFF</td>\n",
       "      <td>98.0</td>\n",
       "      <td>13</td>\n",
       "      <td>1237.85</td>\n",
       "      <td>Yes</td>\n",
       "      <td>2</td>\n",
       "    </tr>\n",
       "    <tr>\n",
       "      <th>4</th>\n",
       "      <td>0013-EXCHZ</td>\n",
       "      <td>83.9</td>\n",
       "      <td>3</td>\n",
       "      <td>267.40</td>\n",
       "      <td>Yes</td>\n",
       "      <td>2</td>\n",
       "    </tr>\n",
       "  </tbody>\n",
       "</table>\n",
       "</div>"
      ],
      "text/plain": [
       "  customer_id  monthly_charges  tenure  total_charges phone_service  \\\n",
       "0  0002-ORFBO             65.6       9         593.30           Yes   \n",
       "1  0003-MKNFE             59.9       9         542.40           Yes   \n",
       "2  0004-TLHLJ             73.9       4         280.85           Yes   \n",
       "3  0011-IGKFF             98.0      13        1237.85           Yes   \n",
       "4  0013-EXCHZ             83.9       3         267.40           Yes   \n",
       "\n",
       "   internet_service_type_id  \n",
       "0                         1  \n",
       "1                         1  \n",
       "2                         2  \n",
       "3                         2  \n",
       "4                         2  "
      ]
     },
     "execution_count": 47,
     "metadata": {},
     "output_type": "execute_result"
    }
   ],
   "source": [
    "telco.head()"
   ]
  },
  {
   "cell_type": "markdown",
   "metadata": {},
   "source": [
    "##### Create Hypotheses\n",
    "\n",
    "- Does tenure correlate with monthly charges?\n",
    "\n",
    ">$H_0$: There is no linear correlation between tenure and monthly charges.\n",
    "\n",
    ">$H_a$: There is a linear correlation between tenure and monthly charges."
   ]
  },
  {
   "cell_type": "markdown",
   "metadata": {},
   "source": [
    "##### Set Alpha for All Correlation Tests"
   ]
  },
  {
   "cell_type": "code",
   "execution_count": 59,
   "metadata": {},
   "outputs": [
    {
     "name": "stdout",
     "output_type": "stream",
     "text": [
      "alpha = 0.05\n"
     ]
    }
   ],
   "source": [
    "# Set Confidence Interval and Alpha; check alpha.\n",
    "\n",
    "confidence_interval = .95\n",
    "alpha = round(1 - confidence_interval, 2)\n",
    "print(f'alpha = {alpha}')"
   ]
  },
  {
   "cell_type": "markdown",
   "metadata": {},
   "source": [
    "##### Calculate  p-value & t-statistic\n",
    "\n",
    "- Based on my calculated r and p-value, I reject the Null hypothesis. The r value informs us that there is a small positive linear correlation between tenure and monthly charges, and our p-value informs us that the finding is significant. \n",
    "\n",
    "\n",
    "- We can see from the low r value that the correlation, though significant, is not strong."
   ]
  },
  {
   "cell_type": "code",
   "execution_count": 48,
   "metadata": {},
   "outputs": [
    {
     "name": "stdout",
     "output_type": "stream",
     "text": [
      "The p-value is: 4.320450791022193e-99. There is 0.0% chance that we see these results by chance.\n",
      "r = 0.25\n"
     ]
    },
    {
     "data": {
      "image/png": "[encoded data removed]",
      "text/plain": [
       "<Figure size 432x288 with 1 Axes>"
      ]
     },
     "metadata": {
      "needs_background": "light"
     },
     "output_type": "display_data"
    }
   ],
   "source": [
    "correlation_exploration(telco, 'tenure', 'monthly_charges')"
   ]
  },
  {
   "cell_type": "markdown",
   "metadata": {},
   "source": [
    "___"
   ]
  },
  {
   "cell_type": "markdown",
   "metadata": {},
   "source": [
    "##### Create Hypotheses\n",
    "\n",
    "- Does tenure correlate with total charges? \n",
    "\n",
    ">$H_0$: There is no linear correlation between tenure and total charges.\n",
    "\n",
    ">$H_a$: There is a linear correlation between tenure and total charges."
   ]
  },
  {
   "cell_type": "markdown",
   "metadata": {},
   "source": [
    "##### Calculate  p-value & t-statistic\n",
    "\n",
    "- Based on the r and p-value, I reject the Null hypothesis. There is a strong correlation, r = 0.83, between tenure and total charges.\n",
    "\n",
    "\n",
    "- This is not surprising because total charges necessarily add up the longer a customer remain with the company, tenure. Our p-value of 0 informs us that the finding is significant."
   ]
  },
  {
   "cell_type": "code",
   "execution_count": 49,
   "metadata": {},
   "outputs": [
    {
     "name": "stdout",
     "output_type": "stream",
     "text": [
      "The p-value is: 0.0. There is 0.0% chance that we see these results by chance.\n",
      "r = 0.83\n"
     ]
    },
    {
     "data": {
      "image/png": "[encoded data removed]",
      "text/plain": [
       "<Figure size 432x288 with 1 Axes>"
      ]
     },
     "metadata": {
      "needs_background": "light"
     },
     "output_type": "display_data"
    }
   ],
   "source": [
    "correlation_exploration(telco, 'tenure', 'total_charges')"
   ]
  },
  {
   "cell_type": "markdown",
   "metadata": {},
   "source": [
    "___"
   ]
  },
  {
   "cell_type": "markdown",
   "metadata": {},
   "source": [
    "##### Create Hypotheses\n",
    "\n",
    "- What happens if I control for phone and internet service?\n",
    "\n",
    ">$H_0$: There is no linear correlation between tenure and monthly charges for customers who don't have phone but do have DSL services.\n",
    "\n",
    ">$H_a$: There is a linear correlation between tenure and monthly charges for customers who don't have phone but do have DSL services."
   ]
  },
  {
   "cell_type": "code",
   "execution_count": 50,
   "metadata": {},
   "outputs": [
    {
     "data": {
      "text/html": [
       "<div>\n",
       "<style scoped>\n",
       "    .dataframe tbody tr th:only-of-type {\n",
       "        vertical-align: middle;\n",
       "    }\n",
       "\n",
       "    .dataframe tbody tr th {\n",
       "        vertical-align: top;\n",
       "    }\n",
       "\n",
       "    .dataframe thead th {\n",
       "        text-align: right;\n",
       "    }\n",
       "</style>\n",
       "<table border=\"1\" class=\"dataframe\">\n",
       "  <thead>\n",
       "    <tr style=\"text-align: right;\">\n",
       "      <th></th>\n",
       "      <th>customer_id</th>\n",
       "      <th>monthly_charges</th>\n",
       "      <th>tenure</th>\n",
       "      <th>total_charges</th>\n",
       "      <th>phone_service</th>\n",
       "      <th>internet_service_type_id</th>\n",
       "    </tr>\n",
       "  </thead>\n",
       "  <tbody>\n",
       "    <tr>\n",
       "      <th>10</th>\n",
       "      <td>0017-DINOC</td>\n",
       "      <td>45.20</td>\n",
       "      <td>54</td>\n",
       "      <td>2460.55</td>\n",
       "      <td>No</td>\n",
       "      <td>1</td>\n",
       "    </tr>\n",
       "    <tr>\n",
       "      <th>14</th>\n",
       "      <td>0019-GFNTW</td>\n",
       "      <td>45.05</td>\n",
       "      <td>56</td>\n",
       "      <td>2560.10</td>\n",
       "      <td>No</td>\n",
       "      <td>1</td>\n",
       "    </tr>\n",
       "    <tr>\n",
       "      <th>16</th>\n",
       "      <td>0020-JDNXP</td>\n",
       "      <td>61.25</td>\n",
       "      <td>34</td>\n",
       "      <td>1993.20</td>\n",
       "      <td>No</td>\n",
       "      <td>1</td>\n",
       "    </tr>\n",
       "    <tr>\n",
       "      <th>19</th>\n",
       "      <td>0023-HGHWL</td>\n",
       "      <td>25.10</td>\n",
       "      <td>1</td>\n",
       "      <td>25.10</td>\n",
       "      <td>No</td>\n",
       "      <td>1</td>\n",
       "    </tr>\n",
       "    <tr>\n",
       "      <th>25</th>\n",
       "      <td>0032-PGELS</td>\n",
       "      <td>30.50</td>\n",
       "      <td>1</td>\n",
       "      <td>30.50</td>\n",
       "      <td>No</td>\n",
       "      <td>1</td>\n",
       "    </tr>\n",
       "  </tbody>\n",
       "</table>\n",
       "</div>"
      ],
      "text/plain": [
       "   customer_id  monthly_charges  tenure  total_charges phone_service  \\\n",
       "10  0017-DINOC            45.20      54        2460.55            No   \n",
       "14  0019-GFNTW            45.05      56        2560.10            No   \n",
       "16  0020-JDNXP            61.25      34        1993.20            No   \n",
       "19  0023-HGHWL            25.10       1          25.10            No   \n",
       "25  0032-PGELS            30.50       1          30.50            No   \n",
       "\n",
       "    internet_service_type_id  \n",
       "10                         1  \n",
       "14                         1  \n",
       "16                         1  \n",
       "19                         1  \n",
       "25                         1  "
      ]
     },
     "execution_count": 50,
     "metadata": {},
     "output_type": "execute_result"
    }
   ],
   "source": [
    "# Create a subset of customers without phone service but with internet.\n",
    "# This ONLY includes DSL as I found that Fiber customers ALL have phone service.\n",
    "\n",
    "no_phone_yes_dsl = telco[(telco.phone_service == 'No') & ((telco.internet_service_type_id == 1) | (telco.internet_service_type_id == 2))]\n",
    "no_phone_yes_dsl.head()"
   ]
  },
  {
   "cell_type": "markdown",
   "metadata": {},
   "source": [
    "##### Calculate  p-value & t-statistic\n",
    "\n",
    "- I reject the Null hypothesis that there is no correlation between tenure and monthly charges for customers who don't have phone but do have DSL based on the calculated p-value being below our alpha of 0.05 and our r of 0.59."
   ]
  },
  {
   "cell_type": "code",
   "execution_count": 51,
   "metadata": {},
   "outputs": [
    {
     "name": "stdout",
     "output_type": "stream",
     "text": [
      "The p-value is: 4.022392937551241e-64. There is 0.0% chance that we see these results by chance.\n",
      "r = 0.59\n"
     ]
    },
    {
     "data": {
      "image/png": "[encoded data removed]",
      "text/plain": [
       "<Figure size 432x288 with 1 Axes>"
      ]
     },
     "metadata": {
      "needs_background": "light"
     },
     "output_type": "display_data"
    }
   ],
   "source": [
    "# The relationship between tenure and monthly charges for customers that don't have phone service\n",
    "# but DO have DSL\n",
    "\n",
    "correlation_exploration(no_phone_yes_dsl, 'tenure', 'monthly_charges')"
   ]
  },
  {
   "cell_type": "markdown",
   "metadata": {},
   "source": [
    "##### Create Hypotheses\n",
    "\n",
    ">$H_0$: There is no linear correlation between tenure and monthly charges for customers with phone and Fiber services.\n",
    "\n",
    ">$H_a$: There is a linear correlation between tenure and monthly charges for customers with phone and Fiber services."
   ]
  },
  {
   "cell_type": "code",
   "execution_count": 52,
   "metadata": {},
   "outputs": [
    {
     "data": {
      "text/html": [
       "<div>\n",
       "<style scoped>\n",
       "    .dataframe tbody tr th:only-of-type {\n",
       "        vertical-align: middle;\n",
       "    }\n",
       "\n",
       "    .dataframe tbody tr th {\n",
       "        vertical-align: top;\n",
       "    }\n",
       "\n",
       "    .dataframe thead th {\n",
       "        text-align: right;\n",
       "    }\n",
       "</style>\n",
       "<table border=\"1\" class=\"dataframe\">\n",
       "  <thead>\n",
       "    <tr style=\"text-align: right;\">\n",
       "      <th></th>\n",
       "      <th>customer_id</th>\n",
       "      <th>monthly_charges</th>\n",
       "      <th>tenure</th>\n",
       "      <th>total_charges</th>\n",
       "      <th>phone_service</th>\n",
       "      <th>internet_service_type_id</th>\n",
       "    </tr>\n",
       "  </thead>\n",
       "  <tbody>\n",
       "    <tr>\n",
       "      <th>2</th>\n",
       "      <td>0004-TLHLJ</td>\n",
       "      <td>73.90</td>\n",
       "      <td>4</td>\n",
       "      <td>280.85</td>\n",
       "      <td>Yes</td>\n",
       "      <td>2</td>\n",
       "    </tr>\n",
       "    <tr>\n",
       "      <th>3</th>\n",
       "      <td>0011-IGKFF</td>\n",
       "      <td>98.00</td>\n",
       "      <td>13</td>\n",
       "      <td>1237.85</td>\n",
       "      <td>Yes</td>\n",
       "      <td>2</td>\n",
       "    </tr>\n",
       "    <tr>\n",
       "      <th>4</th>\n",
       "      <td>0013-EXCHZ</td>\n",
       "      <td>83.90</td>\n",
       "      <td>3</td>\n",
       "      <td>267.40</td>\n",
       "      <td>Yes</td>\n",
       "      <td>2</td>\n",
       "    </tr>\n",
       "    <tr>\n",
       "      <th>6</th>\n",
       "      <td>0013-SMEOE</td>\n",
       "      <td>109.70</td>\n",
       "      <td>71</td>\n",
       "      <td>7904.25</td>\n",
       "      <td>Yes</td>\n",
       "      <td>2</td>\n",
       "    </tr>\n",
       "    <tr>\n",
       "      <th>7</th>\n",
       "      <td>0014-BMAQU</td>\n",
       "      <td>84.65</td>\n",
       "      <td>63</td>\n",
       "      <td>5377.80</td>\n",
       "      <td>Yes</td>\n",
       "      <td>2</td>\n",
       "    </tr>\n",
       "  </tbody>\n",
       "</table>\n",
       "</div>"
      ],
      "text/plain": [
       "  customer_id  monthly_charges  tenure  total_charges phone_service  \\\n",
       "2  0004-TLHLJ            73.90       4         280.85           Yes   \n",
       "3  0011-IGKFF            98.00      13        1237.85           Yes   \n",
       "4  0013-EXCHZ            83.90       3         267.40           Yes   \n",
       "6  0013-SMEOE           109.70      71        7904.25           Yes   \n",
       "7  0014-BMAQU            84.65      63        5377.80           Yes   \n",
       "\n",
       "   internet_service_type_id  \n",
       "2                         2  \n",
       "3                         2  \n",
       "4                         2  \n",
       "6                         2  \n",
       "7                         2  "
      ]
     },
     "execution_count": 52,
     "metadata": {},
     "output_type": "execute_result"
    }
   ],
   "source": [
    "# Create subset of customers who have Fiber... all Fiber customers also have phone service\n",
    "\n",
    "yes_phone_yes_fiber = telco[telco.internet_service_type_id == 2]\n",
    "yes_phone_yes_fiber.head()"
   ]
  },
  {
   "cell_type": "markdown",
   "metadata": {},
   "source": [
    "##### Calculate  p-value & t-statistic\n",
    "\n",
    "- I reject the Null hypothesis that there is no correlation between tenure and montlhy charges for customers who have Fiber and phone services based on the p-value being below our alpha of 0.05 and our r of 0.62. \n",
    "\n",
    "\n",
    "- There is a positive correlation between tenure and monthly charges for customers with Fiber and phone service."
   ]
  },
  {
   "cell_type": "code",
   "execution_count": 53,
   "metadata": {},
   "outputs": [
    {
     "name": "stdout",
     "output_type": "stream",
     "text": [
      "The p-value is: 0.0. There is 0.0% chance that we see these results by chance.\n",
      "r = 0.62\n"
     ]
    },
    {
     "data": {
      "image/png": "[encoded data removed]",
      "text/plain": [
       "<Figure size 432x288 with 1 Axes>"
      ]
     },
     "metadata": {
      "needs_background": "light"
     },
     "output_type": "display_data"
    }
   ],
   "source": [
    "# the correlation of tenure and monthly charges for customers who have phone and Fiber service\n",
    "\n",
    "correlation_exploration(yes_phone_yes_fiber, 'tenure', 'monthly_charges')"
   ]
  },
  {
   "cell_type": "markdown",
   "metadata": {},
   "source": [
    "___"
   ]
  },
  {
   "cell_type": "markdown",
   "metadata": {},
   "source": [
    "## Chi Square ($x^2$) - Categorical v Categorical Variables"
   ]
  },
  {
   "cell_type": "markdown",
   "metadata": {},
   "source": [
    "### <font color=red>What is a Chi Square test?</font>\n",
    "\n",
    "- The Chi Square test is used to determine whether there is a statistically significant difference between the expected and observed frequencies in one or more categories. Observations are classfied into mutually exclusive classes. In other words, it is a way of testing for group membership."
   ]
  },
  {
   "cell_type": "markdown",
   "metadata": {},
   "source": [
    "### <font color=orange>So What?</font>\n",
    "\n",
    "- The chi square test works by comparing the observed/actual contingency table against the expected/predicted contingency table that would be the case if group membership in the variables were independent.\n",
    "\n",
    "\n",
    "Were people with a higher ticket class on the Titanic more likely to survive?\n",
    "\n",
    ">$H_0$ = Survival rate is independent of ticket class.\n",
    "\n",
    ">$H_a$ = Survival rate is not independent of ticket class.\n",
    "\n",
    "Does the type of service package a customer has affect the likelihood that she will churn?\n",
    "\n",
    ">$H_0$ = Churn is independent of type of service package.\n",
    "\n",
    ">$H_a$ = Churn is not independent of type of service package."
   ]
  },
  {
   "cell_type": "markdown",
   "metadata": {},
   "source": [
    "### <font color=green>Now What?</font>\n",
    "\n",
    "```python\n",
    "# ctab == observed values\n",
    "\n",
    "ctab = pd.crosstab(df.Series, df.Series)\n",
    "\n",
    "#expected == values we would expect to see if the variables are independent of each other.\n",
    "\n",
    "chi2, p, degf, expected = stats.chi2_contingency(ctab)\n",
    "```"
   ]
  },
  {
   "cell_type": "markdown",
   "metadata": {},
   "source": [
    "___"
   ]
  },
  {
   "cell_type": "markdown",
   "metadata": {},
   "source": [
    "### Chi Square Examples\n",
    "\n",
    "**Steps**\n",
    "\n",
    "1. Aquire data\n",
    "2. Create Hypothesis - Null Hypothesis: The two variables are independent.\n",
    "3. Set your confidence level and alpha\n",
    "4. Calculate Test Statistic - run chi square test and use p-value to decide whether to reject the Null Hypothesis that the variables or categories are independent."
   ]
  },
  {
   "cell_type": "code",
   "execution_count": 56,
   "metadata": {},
   "outputs": [
    {
     "data": {
      "text/html": [
       "<div>\n",
       "<style scoped>\n",
       "    .dataframe tbody tr th:only-of-type {\n",
       "        vertical-align: middle;\n",
       "    }\n",
       "\n",
       "    .dataframe tbody tr th {\n",
       "        vertical-align: top;\n",
       "    }\n",
       "\n",
       "    .dataframe thead th {\n",
       "        text-align: right;\n",
       "    }\n",
       "</style>\n",
       "<table border=\"1\" class=\"dataframe\">\n",
       "  <thead>\n",
       "    <tr style=\"text-align: right;\">\n",
       "      <th></th>\n",
       "      <th>total_bill</th>\n",
       "      <th>tip</th>\n",
       "      <th>sex</th>\n",
       "      <th>smoker</th>\n",
       "      <th>day</th>\n",
       "      <th>time</th>\n",
       "      <th>size</th>\n",
       "    </tr>\n",
       "  </thead>\n",
       "  <tbody>\n",
       "    <tr>\n",
       "      <th>1</th>\n",
       "      <td>16.99</td>\n",
       "      <td>1.01</td>\n",
       "      <td>Female</td>\n",
       "      <td>No</td>\n",
       "      <td>Sun</td>\n",
       "      <td>Dinner</td>\n",
       "      <td>2</td>\n",
       "    </tr>\n",
       "    <tr>\n",
       "      <th>2</th>\n",
       "      <td>10.34</td>\n",
       "      <td>1.66</td>\n",
       "      <td>Male</td>\n",
       "      <td>No</td>\n",
       "      <td>Sun</td>\n",
       "      <td>Dinner</td>\n",
       "      <td>3</td>\n",
       "    </tr>\n",
       "    <tr>\n",
       "      <th>3</th>\n",
       "      <td>21.01</td>\n",
       "      <td>3.50</td>\n",
       "      <td>Male</td>\n",
       "      <td>No</td>\n",
       "      <td>Sun</td>\n",
       "      <td>Dinner</td>\n",
       "      <td>3</td>\n",
       "    </tr>\n",
       "    <tr>\n",
       "      <th>4</th>\n",
       "      <td>23.68</td>\n",
       "      <td>3.31</td>\n",
       "      <td>Male</td>\n",
       "      <td>No</td>\n",
       "      <td>Sun</td>\n",
       "      <td>Dinner</td>\n",
       "      <td>2</td>\n",
       "    </tr>\n",
       "    <tr>\n",
       "      <th>5</th>\n",
       "      <td>24.59</td>\n",
       "      <td>3.61</td>\n",
       "      <td>Female</td>\n",
       "      <td>No</td>\n",
       "      <td>Sun</td>\n",
       "      <td>Dinner</td>\n",
       "      <td>4</td>\n",
       "    </tr>\n",
       "  </tbody>\n",
       "</table>\n",
       "</div>"
      ],
      "text/plain": [
       "   total_bill   tip     sex smoker  day    time  size\n",
       "1       16.99  1.01  Female     No  Sun  Dinner     2\n",
       "2       10.34  1.66    Male     No  Sun  Dinner     3\n",
       "3       21.01  3.50    Male     No  Sun  Dinner     3\n",
       "4       23.68  3.31    Male     No  Sun  Dinner     2\n",
       "5       24.59  3.61  Female     No  Sun  Dinner     4"
      ]
     },
     "execution_count": 56,
     "metadata": {},
     "output_type": "execute_result"
    }
   ],
   "source": [
    "# Create 'tips' df using pydataset.\n",
    "\n",
    "tips = data('tips')\n",
    "tips.head()"
   ]
  },
  {
   "cell_type": "markdown",
   "metadata": {},
   "source": [
    "##### Create Hypotheses\n",
    "\n",
    ">$H_0$ = Whether a person is a smoker is independent of his/her sex.\n",
    "\n",
    ">$H_a$ = Whether a person is a smoker is not independent of his/her sex."
   ]
  },
  {
   "cell_type": "markdown",
   "metadata": {},
   "source": [
    "##### Set Alpha"
   ]
  },
  {
   "cell_type": "code",
   "execution_count": 57,
   "metadata": {},
   "outputs": [
    {
     "data": {
      "text/plain": [
       "0.05"
      ]
     },
     "execution_count": 57,
     "metadata": {},
     "output_type": "execute_result"
    }
   ],
   "source": [
    "confidence_level = .95\n",
    "alpha = round(1 - confidence_level,2)\n",
    "alpha"
   ]
  },
  {
   "cell_type": "markdown",
   "metadata": {},
   "source": [
    "##### Calculate  p-value\n",
    "\n",
    "- I fail to reject the Null hypothesis that whether a person is a smoker is independent of his/her sex based on the p-value being above our alpha. \n",
    "\n",
    "\n",
    "- Our $x^2$ test informs me that the two categories, smoker and sex, are independent."
   ]
  },
  {
   "cell_type": "code",
   "execution_count": 58,
   "metadata": {},
   "outputs": [
    {
     "data": {
      "text/html": [
       "<div>\n",
       "<style scoped>\n",
       "    .dataframe tbody tr th:only-of-type {\n",
       "        vertical-align: middle;\n",
       "    }\n",
       "\n",
       "    .dataframe tbody tr th {\n",
       "        vertical-align: top;\n",
       "    }\n",
       "\n",
       "    .dataframe thead th {\n",
       "        text-align: right;\n",
       "    }\n",
       "</style>\n",
       "<table border=\"1\" class=\"dataframe\">\n",
       "  <thead>\n",
       "    <tr style=\"text-align: right;\">\n",
       "      <th>sex</th>\n",
       "      <th>Female</th>\n",
       "      <th>Male</th>\n",
       "    </tr>\n",
       "    <tr>\n",
       "      <th>smoker</th>\n",
       "      <th></th>\n",
       "      <th></th>\n",
       "    </tr>\n",
       "  </thead>\n",
       "  <tbody>\n",
       "    <tr>\n",
       "      <th>No</th>\n",
       "      <td>54</td>\n",
       "      <td>97</td>\n",
       "    </tr>\n",
       "    <tr>\n",
       "      <th>Yes</th>\n",
       "      <td>33</td>\n",
       "      <td>60</td>\n",
       "    </tr>\n",
       "  </tbody>\n",
       "</table>\n",
       "</div>"
      ],
      "text/plain": [
       "sex     Female  Male\n",
       "smoker              \n",
       "No          54    97\n",
       "Yes         33    60"
      ]
     },
     "execution_count": 58,
     "metadata": {},
     "output_type": "execute_result"
    }
   ],
   "source": [
    "# Create the crosstab.\n",
    "\n",
    "ctab = pd.crosstab(tips.smoker, tips.sex)\n",
    "ctab"
   ]
  },
  {
   "cell_type": "code",
   "execution_count": 86,
   "metadata": {},
   "outputs": [],
   "source": [
    "Chi2, p, degf, expected = stats.chi2_contingency(ctab)"
   ]
  },
  {
   "cell_type": "code",
   "execution_count": 87,
   "metadata": {},
   "outputs": [
    {
     "name": "stdout",
     "output_type": "stream",
     "text": [
      "Our p-value is 0.925417020494423.\n"
     ]
    }
   ],
   "source": [
    "print(f'Our p-value is {p}.')"
   ]
  },
  {
   "cell_type": "code",
   "execution_count": 88,
   "metadata": {},
   "outputs": [
    {
     "name": "stdout",
     "output_type": "stream",
     "text": [
      "Our p-value is less than our alpha: False\n"
     ]
    }
   ],
   "source": [
    "print(f'Our p-value is less than our alpha: {p < alpha}')"
   ]
  },
  {
   "cell_type": "markdown",
   "metadata": {},
   "source": [
    "___"
   ]
  },
  {
   "cell_type": "markdown",
   "metadata": {},
   "source": [
    "##### Create Hypotheses\n",
    "\n",
    ">$H_0$ = Whether a person churns is independent of the package type they purchase.\n",
    "\n",
    ">$H_a$ = Whether a person churns is not independent of the package type they purchase."
   ]
  },
  {
   "cell_type": "markdown",
   "metadata": {},
   "source": [
    "##### Create a df from values and labels.\n",
    "\n",
    "- I can create a visual to go with this."
   ]
  },
  {
   "cell_type": "code",
   "execution_count": 89,
   "metadata": {},
   "outputs": [
    {
     "data": {
      "text/html": [
       "<div>\n",
       "<style scoped>\n",
       "    .dataframe tbody tr th:only-of-type {\n",
       "        vertical-align: middle;\n",
       "    }\n",
       "\n",
       "    .dataframe tbody tr th {\n",
       "        vertical-align: top;\n",
       "    }\n",
       "\n",
       "    .dataframe thead th {\n",
       "        text-align: right;\n",
       "    }\n",
       "</style>\n",
       "<table border=\"1\" class=\"dataframe\">\n",
       "  <thead>\n",
       "    <tr style=\"text-align: right;\">\n",
       "      <th></th>\n",
       "      <th>Product A</th>\n",
       "      <th>Product B</th>\n",
       "    </tr>\n",
       "  </thead>\n",
       "  <tbody>\n",
       "    <tr>\n",
       "      <th>Churn</th>\n",
       "      <td>100</td>\n",
       "      <td>50</td>\n",
       "    </tr>\n",
       "    <tr>\n",
       "      <th>No Churn</th>\n",
       "      <td>120</td>\n",
       "      <td>28</td>\n",
       "    </tr>\n",
       "  </tbody>\n",
       "</table>\n",
       "</div>"
      ],
      "text/plain": [
       "          Product A  Product B\n",
       "Churn           100         50\n",
       "No Churn        120         28"
      ]
     },
     "execution_count": 89,
     "metadata": {},
     "output_type": "execute_result"
    }
   ],
   "source": [
    "index = ['Churn', 'No Churn']\n",
    "columns = ['Product A', 'Product B']\n",
    "\n",
    "observed = pd.DataFrame([[100, 50], [120, 28]], index=index, columns=columns)\n",
    "observed"
   ]
  },
  {
   "cell_type": "markdown",
   "metadata": {},
   "source": [
    "##### Calculate  p-value\n",
    "\n",
    "- I reject the Null hypothesis that whether a person churns is independent of the package type they purchase based on the p-value being below the set alpha. \n",
    "\n",
    "\n",
    "- My $x^2$ test informs me that the two categories, package and churn, are not independent."
   ]
  },
  {
   "cell_type": "code",
   "execution_count": 90,
   "metadata": {},
   "outputs": [
    {
     "name": "stdout",
     "output_type": "stream",
     "text": [
      "Our p-value is 0.006966211555667255.\n"
     ]
    }
   ],
   "source": [
    "Chi2, p, degf, expected = stats.chi2_contingency(observed)\n",
    "print(f'Our p-value is {p}.')"
   ]
  },
  {
   "cell_type": "code",
   "execution_count": 91,
   "metadata": {},
   "outputs": [
    {
     "name": "stdout",
     "output_type": "stream",
     "text": [
      "Our p-value is less than our alpha: True\n"
     ]
    }
   ],
   "source": [
    "print(f'Our p-value is less than our alpha: {p < alpha}')"
   ]
  }
 ],
 "metadata": {
  "kernelspec": {
   "display_name": "Python 3",
   "language": "python",
   "name": "python3"
  },
  "language_info": {
   "codemirror_mode": {
    "name": "ipython",
    "version": 3
   },
   "file_extension": ".py",
   "mimetype": "text/x-python",
   "name": "python",
   "nbconvert_exporter": "python",
   "pygments_lexer": "ipython3",
   "version": "3.7.4"
  },
  "toc": {
   "base_numbering": 1,
   "nav_menu": {},
   "number_sections": false,
   "sideBar": true,
   "skip_h1_title": true,
   "title_cell": "Table of Contents",
   "title_sidebar": "Contents",
   "toc_cell": false,
   "toc_position": {},
   "toc_section_display": true,
   "toc_window_display": true
  }
 },
 "nbformat": 4,
 "nbformat_minor": 4
}
